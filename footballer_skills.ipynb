{
 "cells": [
  {
   "cell_type": "code",
   "execution_count": 1,
   "id": "d5d3eb18",
   "metadata": {},
   "outputs": [],
   "source": [
    "# name: Aboubacar sidiki sylla\n",
    "# Id : SYL23568693\n",
    "# last update: 2023.11.28\n",
    "# purpose : Coursework2"
   ]
  },
  {
   "cell_type": "code",
   "execution_count": 2,
   "id": "9b627ca5",
   "metadata": {},
   "outputs": [],
   "source": [
    "# This program is designed to estimate the salary of a player."
   ]
  },
  {
   "cell_type": "code",
   "execution_count": 3,
   "id": "8d2acca2",
   "metadata": {},
   "outputs": [],
   "source": [
    "# This section is used to import packages if needed.\n",
    "\n",
    "from datetime import datetime\n",
    "import sys\n",
    "from tabulate import tabulate"
   ]
  },
  {
   "cell_type": "code",
   "execution_count": 4,
   "id": "149e1d43",
   "metadata": {},
   "outputs": [],
   "source": [
    "# This section is for delcaring global variables.\n",
    "\n",
    "all_IDs = []\n",
    "all_names = []\n",
    "all_DOBs = []\n",
    "all_ages = []\n",
    "all_overall_ratings = []\n",
    "all_salary_ranges = []\n",
    "\n",
    "\n",
    "filename = \"PlayerData.txt\"\n"
   ]
  },
  {
   "cell_type": "code",
   "execution_count": 5,
   "id": "778d8139",
   "metadata": {},
   "outputs": [],
   "source": [
    "# This function is asking a date of birth to the user. \n",
    "\n",
    "def ask_date_of_birth():\n",
    "\n",
    "    # Define the expected date format\n",
    "    date_format = \"%Y-%m-%d\"\n",
    "    \n",
    "    while True:\n",
    "        \n",
    "        # Ask the user for a date of birth\n",
    "        date_of_birth = input(\"Please enter the date of birth (YYYY-MM-DD): \")\n",
    "        \n",
    "        try:    \n",
    "            # Try to parse/convert the user's input as a date\n",
    "            parsed_date = datetime.strptime(date_of_birth, date_format)\n",
    "            #print(\"Date of birth is valid:\", parsed_date.strftime(date_format))\n",
    "            \n",
    "            break # the break is used to instantly exit the loop if everything is alright\n",
    "            \n",
    "        except ValueError:\n",
    "            print(\"The date you entered was invalid\")\n",
    "    return parsed_date"
   ]
  },
  {
   "cell_type": "code",
   "execution_count": 6,
   "id": "f2d3de13",
   "metadata": {},
   "outputs": [],
   "source": [
    "# This function calculate the age of a player based on his date of birth.\n",
    "\n",
    "def calculate_age(date_of_birth):\n",
    "    \n",
    "    # Get the current date\n",
    "    current_date = datetime.now()\n",
    "    age = current_date.year - date_of_birth.year\n",
    "    if (current_date.month, current_date.day) < (date_of_birth.month, date_of_birth.day):\n",
    "        age = current_date.year - date_of_birth.year - 1\n",
    "    else:\n",
    "        age = current_date.year - date_of_birth.year\n",
    "    return age"
   ]
  },
  {
   "cell_type": "code",
   "execution_count": 7,
   "id": "346dd9b3",
   "metadata": {},
   "outputs": [],
   "source": [
    "# This function is asking the player's id. It returns \"end\" if the user wants to stop.\n",
    "\n",
    "def ask_id():\n",
    "    \n",
    "    while True:\n",
    "\n",
    "        # Ask the user to enter exactly 2 digits\n",
    "        player_id = input(\"Please enter exactly 2 digits or enter end if you want to stop here: \")\n",
    "        \n",
    "        try:\n",
    "    \n",
    "            # check if the input has exactly 2 digit or the input is end.\n",
    "            if player_id.isdigit():\n",
    "                if len(player_id) != 2 :\n",
    "                    raise ValueError()\n",
    "            elif player_id != \"end\":\n",
    "                raise Exception()\n",
    "            \n",
    "            break  # the break is used to instantly exit the loop if everything is alright\n",
    "        \n",
    "        except ValueError: # we use ValueError for a more specific error management  \n",
    "            print(\"The ID you entered was invalid\")\n",
    "        \n",
    "        except:\n",
    "            print(\"The ID you entered was invalid\")\n",
    "        \n",
    "    return player_id"
   ]
  },
  {
   "cell_type": "code",
   "execution_count": 8,
   "id": "56673a33",
   "metadata": {},
   "outputs": [],
   "source": [
    "# this function is aasking the player's name to the user.\n",
    "\n",
    "def ask_name():\n",
    "    \n",
    "    while True:       \n",
    "        name = input(\"Please enter the name: \")\n",
    "        \n",
    "        try:      \n",
    "            if not name: # an empty string boolean value is false\n",
    "                raise Exception()\n",
    "            break  # the break is used to instantly exit the loop if everything is alright\n",
    "\n",
    "        except:\n",
    "            print(\"Name cannot be empty. Please try again: \")\n",
    "    return name"
   ]
  },
  {
   "cell_type": "code",
   "execution_count": 9,
   "id": "be2ca0a1",
   "metadata": {},
   "outputs": [],
   "source": [
    "# This function will ask the user to enter a skill and returns it if it passes the validity check.\n",
    "\n",
    "def ask_skill(skill_name):\n",
    "    \n",
    "    # The while loop will be asking the user to enter the skill again until it is in a correct format.\n",
    "    \n",
    "    while True:\n",
    "        \n",
    "        skill = input(skill_name)\n",
    "        \n",
    "        try :           \n",
    "            final_skill = int(skill)\n",
    "            \n",
    "            if  final_skill < 0 or final_skill > 5 :\n",
    "                raise Exception()\n",
    "            break  # the break is used to instantly exit the loop if everything is alright\n",
    "        except:\n",
    "            print(\"The rating you entered was invalid\")\n",
    "    \n",
    "    return final_skill"
   ]
  },
  {
   "cell_type": "code",
   "execution_count": 10,
   "id": "34cde4e1",
   "metadata": {},
   "outputs": [],
   "source": [
    "# this function is used to calculate the rate based on  the skills\n",
    "\n",
    "def calculate_rating():\n",
    "    \n",
    "    # Here the function will be used for the six skills.\n",
    "\n",
    "    speed = ask_skill(\"Enter the speed: \")\n",
    "    shooting = ask_skill(\"Enter the shooting: \")\n",
    "    passing = ask_skill(\"Enter the passing: \")\n",
    "    defending = ask_skill(\"Enter the defending: \")\n",
    "    dribbling = ask_skill(\"Enter the dribbling: \")\n",
    "    physicality = ask_skill(\"Enter the physicality: \")\n",
    "                 \n",
    "    return (speed + shooting + passing + defending + dribbling + physicality)* 100 / 30"
   ]
  },
  {
   "cell_type": "code",
   "execution_count": 11,
   "id": "49242ea2",
   "metadata": {},
   "outputs": [],
   "source": [
    "def calculate_salary(final_rate):\n",
    "\n",
    "    # The datas here are for the players' salaries and overall rates\n",
    "    # stocking variables in a list, the list of salaries and the list of rates\n",
    "\n",
    "    salaries = [1000,700,500,400]\n",
    "    rates = [80,60,45,30]\n",
    "\n",
    "    # We can now display the salary\n",
    "\n",
    "    if final_rate >= rates[0] :\n",
    "        return salaries[0]\n",
    "    elif final_rate < rates[0] and final_rate > rates[1] :\n",
    "        return salaries[0], salaries[1]\n",
    "    elif final_rate == rates[1] :\n",
    "        return salaries[1]\n",
    "    elif final_rate < rates[1] and final_rate > rates[2] :\n",
    "        return salaries[1], salaries[2]\n",
    "    elif final_rate == rates[2] :\n",
    "        return salaries[2]\n",
    "    elif final_rate < rates[2] and final_rate > rates[3] :\n",
    "        return salaries[2], salaries[3]\n",
    "    elif final_rate <= rates[3] :\n",
    "        return salaries[3]\n",
    "\n",
    "    "
   ]
  },
  {
   "cell_type": "code",
   "execution_count": 12,
   "id": "24c02270",
   "metadata": {},
   "outputs": [],
   "source": [
    "# This function the lists of datas of all the players added.\n",
    "\n",
    "def update_lists(player_id, name, dob, age, score, salary):\n",
    "    \n",
    "    all_IDs.append(player_id)\n",
    "    all_names.append(name)\n",
    "    all_DOBs.append(dob)\n",
    "    all_ages.append(age)\n",
    "    all_overall_ratings.append(score)\n",
    "    all_salary_ranges.append(salary)\n",
    "    "
   ]
  },
  {
   "cell_type": "code",
   "execution_count": 13,
   "id": "4f67bf18",
   "metadata": {},
   "outputs": [],
   "source": [
    "# This function add to a list a number of elements.\n",
    "\n",
    "def add_list(my_list, indice):\n",
    "        \n",
    "        my_list.append(all_IDs[indice])\n",
    "        my_list.append(all_names[indice])\n",
    "        my_list.append(all_DOBs[indice].strftime(\"%Y-%m-%d\"))\n",
    "        my_list.append(all_ages[indice])\n",
    "        my_list.append(all_overall_ratings[indice])\n",
    "        my_list.append(all_salary_ranges[indice])\n",
    "    "
   ]
  },
  {
   "cell_type": "code",
   "execution_count": 14,
   "id": "44764738",
   "metadata": {},
   "outputs": [],
   "source": [
    "# this function format the display to have a tuple separated in a same cell\n",
    "\n",
    "def format_list(my_list):\n",
    "    formatted_data = []\n",
    "    # Check if the last element is a tuple\n",
    "    if isinstance(my_list[-1],tuple):\n",
    "        # Unpack the last two elements\n",
    "        *rest, (range1, range2) = my_list\n",
    "        formatted_data = rest + [f\"{range1} {range2}\"]\n",
    "    else:\n",
    "        formatted_data = my_list\n",
    "    return formatted_data"
   ]
  },
  {
   "cell_type": "code",
   "execution_count": 15,
   "id": "ee343b65",
   "metadata": {},
   "outputs": [],
   "source": [
    "# this function is another way to diplay the table\n",
    "\n",
    "def another_display():\n",
    "    headers = [\"UID\", \"Name\", \"D.O.B\", \"Age\", \"Score\", \"Salary Range\"]\n",
    "    \n",
    "    display_list1 = []\n",
    "    display_list2 = []\n",
    "    display_list3 = []\n",
    "\n",
    "    formatted_data1 = []\n",
    "    formatted_data2 = []\n",
    "    formatted_data3 = []\n",
    "    \n",
    "\n",
    "    i= 0   \n",
    "    while i < len(all_ages):\n",
    "        if i == 0:\n",
    "            add_list(display_list1,i)\n",
    "            formatted_data1 = format_list(display_list1)\n",
    "        elif i == 1:\n",
    "            add_list(display_list2,i)\n",
    "            formatted_data2 = format_list(display_list2)\n",
    "        elif i == 2 :\n",
    "            add_list(display_list3,i)\n",
    "            formatted_data3 = format_list(display_list3)\n",
    "        i = i + 1  \n",
    "    table = tabulate([formatted_data1, formatted_data2, formatted_data3], headers=headers, tablefmt=\"simple\")\n",
    "    print(table)"
   ]
  },
  {
   "cell_type": "code",
   "execution_count": 16,
   "id": "432f8700",
   "metadata": {},
   "outputs": [],
   "source": [
    "# this function create/edit a file to write my outputs in it.\n",
    "\n",
    "def file_writing(file_name):\n",
    "    \n",
    "    # Store a reference to the original stdout\n",
    "    original_stdout = sys.stdout\n",
    "    \n",
    "    # Define the file path where you want to save the output\n",
    "    output_file = file_name            #\"players.txt\"\n",
    "    \n",
    "    # Redirect the printing to the file\n",
    "    with open(output_file, \"w\") as f:\n",
    "        sys.stdout = f\n",
    "        \n",
    "        # writing the infos in the file\n",
    "        another_display()\n",
    "    \n",
    "    # Close the file\n",
    "    f.close()\n",
    "    \n",
    "    # Restore stdout to its original state\n",
    "    sys.stdout = original_stdout"
   ]
  },
  {
   "cell_type": "code",
   "execution_count": 17,
   "id": "d543e7e9",
   "metadata": {},
   "outputs": [],
   "source": [
    "# This function will be used to ask the informations of 3 players or less\n",
    "\n",
    "def ask_info_for_players():\n",
    "    \n",
    "    i = 0\n",
    "    while i < 3:\n",
    "        the_players_id = ask_id()\n",
    "        if the_players_id != \"end\" :   \n",
    "            the_players_name = ask_name()\n",
    "            the_players_DOB = ask_date_of_birth()\n",
    "            age = calculate_age(the_players_DOB)\n",
    "            rate = calculate_rating()\n",
    "            salary = calculate_salary(rate)\n",
    "            update_lists(the_players_id,the_players_name, the_players_DOB, age, rate, salary)\n",
    "            i = i + 1\n",
    "        elif the_players_id == \"end\":\n",
    "            i = 3\n",
    "    another_display()\n",
    "    file_name = \"players.txt\"\n",
    "    file_writing(file_name)\n",
    "    "
   ]
  },
  {
   "cell_type": "code",
   "execution_count": 18,
   "id": "e3ef170a",
   "metadata": {},
   "outputs": [],
   "source": [
    "# This function receives 5 parameters and returns the overall score\n",
    "def another_way_of_calculating_ratings(speed, shooting, passing, defending, dribbling, physicality):\n",
    "        return (speed + shooting + passing + defending + dribbling + physicality)* 100 / 30"
   ]
  },
  {
   "cell_type": "code",
   "execution_count": 19,
   "id": "74b1053e",
   "metadata": {},
   "outputs": [],
   "source": [
    "# clears all global lists\n",
    "def reset_global_lists():\n",
    "    all_IDs.clear()\n",
    "    all_names.clear()\n",
    "    all_DOBs.clear()\n",
    "    all_ages.clear()\n",
    "    all_overall_ratings.clear()\n",
    "    all_salary_ranges.clear()"
   ]
  },
  {
   "cell_type": "code",
   "execution_count": 20,
   "id": "6b594288",
   "metadata": {},
   "outputs": [],
   "source": [
    "# This function funtion updates the lists of info read in a file\n",
    "def update_reading_lists(my_line_data):\n",
    "        \n",
    "    player_id = int(my_line_data[0])\n",
    "    # Ensure player_id is a double-digit integer\n",
    "    if player_id < 10:\n",
    "        player_id = '{:02d}'.format(player_id)\n",
    "    name = my_line_data[1]\n",
    "    date_format = \"%Y-%m-%d\" # Define the expected date format\n",
    "    date_of_birth = my_line_data[2]\n",
    "    dob = datetime.strptime(date_of_birth, date_format)\n",
    "    age = calculate_age(dob)\n",
    "    score = another_way_of_calculating_ratings(int(my_line_data[3]),int(my_line_data[4]),int(my_line_data[5]),int(my_line_data[6]),int(my_line_data[7]),int(my_line_data[8]))\n",
    "    salary = calculate_salary(score)\n",
    "    update_lists(player_id, name, dob, age, score, salary)\n",
    "        \n",
    "    \n",
    "    "
   ]
  },
  {
   "cell_type": "code",
   "execution_count": 21,
   "id": "ac208fa5",
   "metadata": {},
   "outputs": [],
   "source": [
    "# This function reads into a file to get the players' info\n",
    "def read_file(filename):\n",
    "    \n",
    "    first_line_data = []\n",
    "    try:\n",
    "        with open(filename, 'r') as file:\n",
    "            for line_number, line in enumerate(file): # enumerate iterates over the lines of the file while keeping track of the line number.\n",
    "                if line_number == 0:\n",
    "                    continue  # Skip the first line since it is not usefull\n",
    "                data_string = line.strip()\n",
    "                first_line_data = data_string.split(', ')\n",
    "                #print(first_line_data)\n",
    "                update_reading_lists(first_line_data)\n",
    "    except Exception as e:\n",
    "        print(f\"Error: {e}\")"
   ]
  },
  {
   "cell_type": "code",
   "execution_count": 22,
   "id": "6c36cd34",
   "metadata": {},
   "outputs": [],
   "source": [
    "# This function reads a file and produces a txt file based on the information srored in that file.\n",
    "def advanced(filename):\n",
    "    reset_global_lists()\n",
    "    read_file(filename)\n",
    "    another_display()\n",
    "    file1 = \"reading_writing.txt\"\n",
    "    file_writing(file1)"
   ]
  },
  {
   "cell_type": "code",
   "execution_count": 23,
   "id": "1b725362",
   "metadata": {},
   "outputs": [],
   "source": [
    "# this will be the main fuction that calls all other fucntions\n",
    "def main():\n",
    "    \n",
    "    ask_info_for_players()"
   ]
  },
  {
   "cell_type": "code",
   "execution_count": 24,
   "id": "00bd9c2e",
   "metadata": {
    "scrolled": true
   },
   "outputs": [
    {
     "name": "stdout",
     "output_type": "stream",
     "text": [
      "Please enter exactly 2 digits or enter end if you want to stop here: 01\n",
      "Please enter the name: assyl\n",
      "Please enter the date of birth (YYYY-MM-DD): 2000-01-01\n",
      "Enter the speed: 5\n",
      "Enter the shooting: 5\n",
      "Enter the passing: 5\n",
      "Enter the defending: 5\n",
      "Enter the dribbling: 5\n",
      "Enter the physicality: 5\n",
      "Please enter exactly 2 digits or enter end if you want to stop here: 02\n",
      "Please enter the name: sylla\n",
      "Please enter the date of birth (YYYY-MM-DD): 2001-03-05\n",
      "Enter the speed: 3\n",
      "Enter the shooting: 5\n",
      "Enter the passing: 4\n",
      "Enter the defending: 2\n",
      "Enter the dribbling: 5\n",
      "Enter the physicality: 3\n",
      "Please enter exactly 2 digits or enter end if you want to stop here: end\n",
      "  UID  Name    D.O.B         Age     Score  Salary Range\n",
      "-----  ------  ----------  -----  --------  --------------\n",
      "   01  assyl   2000-01-01     24  100       1000\n",
      "   02  sylla   2001-03-05     22   73.3333  1000 700\n",
      "\n"
     ]
    },
    {
     "ename": "SystemExit",
     "evalue": "",
     "output_type": "error",
     "traceback": [
      "An exception has occurred, use %tb to see the full traceback.\n",
      "\u001b[1;31mSystemExit\u001b[0m\n"
     ]
    },
    {
     "name": "stderr",
     "output_type": "stream",
     "text": [
      "C:\\Users\\byaku\\anaconda3\\Lib\\site-packages\\IPython\\core\\interactiveshell.py:3513: UserWarning: To exit: use 'exit', 'quit', or Ctrl-D.\n",
      "  warn(\"To exit: use 'exit', 'quit', or Ctrl-D.\", stacklevel=1)\n"
     ]
    }
   ],
   "source": [
    "if __name__==\"__main__\":\n",
    "    sys.exit(main()) #This calls the main function if the code was called directly."
   ]
  },
  {
   "cell_type": "code",
   "execution_count": null,
   "id": "48985c3d",
   "metadata": {},
   "outputs": [],
   "source": []
  }
 ],
 "metadata": {
  "kernelspec": {
   "display_name": "Python 3 (ipykernel)",
   "language": "python",
   "name": "python3"
  },
  "language_info": {
   "codemirror_mode": {
    "name": "ipython",
    "version": 3
   },
   "file_extension": ".py",
   "mimetype": "text/x-python",
   "name": "python",
   "nbconvert_exporter": "python",
   "pygments_lexer": "ipython3",
   "version": "3.11.4"
  }
 },
 "nbformat": 4,
 "nbformat_minor": 5
}
